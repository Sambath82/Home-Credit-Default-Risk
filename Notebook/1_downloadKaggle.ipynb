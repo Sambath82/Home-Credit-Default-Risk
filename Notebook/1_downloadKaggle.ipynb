{
 "cells": [
  {
   "cell_type": "markdown",
   "id": "142d2854-d170-45d9-aa7c-71ba453a9640",
   "metadata": {},
   "source": [
    "# How to Download Datasets from Kaggle Using the Kaggle API\n",
    "\n",
    "**Reference Video:** [YouTube Tutorial](https://www.youtube.com/watch?v=gkEbaMgvLs8)\n",
    "\n",
    "Follow these steps to download datasets from Kaggle using the Kaggle API.\n",
    "\n",
    "1. **Install the Kaggle API**\n",
    "\n",
    "2. **Create a Folder for Kaggle API Credentials**\n",
    "\n",
    "3. **Generate an API Token on Kaggle**\n",
    "\n",
    "4. **Move the API Token to the `.kaggle` Folder**\n",
    "\n",
    "5. **Set Permissions for the API Token (Optional)**\n",
    "\n",
    "6. **Search for a Dataset on Kaggle**\n",
    "   - Visit the [Kaggle Datasets](https://www.kaggle.com/datasets) page.\n",
    "   - Search for the dataset you want to use and note the dataset identifier (found in the first left column).\n",
    "\n",
    "7. **Download the Dataset Using the Kaggle API**\n",
    "   - Use the Kaggle API to download your chosen dataset by specifying the dataset identifier:\n",
    "     \n",
    "     `!kaggle datasets download <dataset-owner/dataset-name>`\n",
    "     "
   ]
  },
  {
   "cell_type": "code",
   "execution_count": 2,
   "id": "0361b4df-63db-49f0-baa3-ee4ca79da20d",
   "metadata": {},
   "outputs": [],
   "source": [
    "#!pip install kaggle"
   ]
  },
  {
   "cell_type": "code",
   "execution_count": 3,
   "id": "0e601d5c-63a1-462f-835a-591c1fe9e5f7",
   "metadata": {},
   "outputs": [],
   "source": [
    "#!mkdir ~/.kaggle"
   ]
  },
  {
   "cell_type": "code",
   "execution_count": 4,
   "id": "af23324d-dbce-49b9-b6cd-fe013cb983a3",
   "metadata": {},
   "outputs": [],
   "source": [
    "#!cp /Users/sam/Downloads/kaggle.json /Users/sam/.kaggle/kaggle.json"
   ]
  },
  {
   "cell_type": "code",
   "execution_count": 5,
   "id": "660bf39d-7477-41f7-8410-67821297ad3b",
   "metadata": {},
   "outputs": [],
   "source": [
    "#!cd /Users/sam/.kaggle/ && ls"
   ]
  },
  {
   "cell_type": "code",
   "execution_count": 6,
   "id": "c6bc0eea-95bc-4dce-869f-316d39752b5f",
   "metadata": {},
   "outputs": [],
   "source": [
    "#!kaggle datasets list -s 'Home credit default risk'"
   ]
  },
  {
   "cell_type": "code",
   "execution_count": 7,
   "id": "d29d0eb0-a576-4b3a-b64b-eeaa165957bd",
   "metadata": {},
   "outputs": [],
   "source": [
    "#!sudo apt-get install unzip"
   ]
  },
  {
   "cell_type": "code",
   "execution_count": null,
   "id": "97e69fd2-2ec2-459f-b831-3cd6c92f5e10",
   "metadata": {},
   "outputs": [],
   "source": []
  }
 ],
 "metadata": {
  "kernelspec": {
   "display_name": "Python 3 (ipykernel)",
   "language": "python",
   "name": "python3"
  },
  "language_info": {
   "codemirror_mode": {
    "name": "ipython",
    "version": 3
   },
   "file_extension": ".py",
   "mimetype": "text/x-python",
   "name": "python",
   "nbconvert_exporter": "python",
   "pygments_lexer": "ipython3",
   "version": "3.12.4"
  }
 },
 "nbformat": 4,
 "nbformat_minor": 5
}
